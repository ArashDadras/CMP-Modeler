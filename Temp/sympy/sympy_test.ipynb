{
 "cells": [
  {
   "cell_type": "markdown",
   "metadata": {},
   "source": [
    "$\\prod_{i=1}^{n} \\frac{1}{\\sqrt{2\\pi\\sigma^2}} \\exp\\left( -\\frac{(y_i - (\\beta_0 + \\beta_1 x_i))^2}{2\\sigma^2} \\right)$"
   ]
  },
  {
   "cell_type": "code",
   "execution_count": 144,
   "metadata": {},
   "outputs": [],
   "source": [
    "from sympy import Eq\n",
    "from sympy.abc import x, y, z\n",
    "from sympy import Matrix\n",
    "from sympy import sin, cos, symbols, lambdify, log\n",
    "from sympy.parsing.latex import parse_latex\n",
    "import numpy as np\n",
    "from numpy import sqrt"
   ]
  },
  {
   "cell_type": "code",
   "execution_count": null,
   "metadata": {},
   "outputs": [],
   "source": [
    "x, y = symbols('x y')\n",
    "expr = sin(x) + cos(x) + sqrt(y)\n",
    "expr"
   ]
  },
  {
   "cell_type": "code",
   "execution_count": null,
   "metadata": {},
   "outputs": [],
   "source": [
    "f = lambdify([x, y], expr, 'numpy')\n",
    "a = np.array([1, 2])\n",
    "f(a, 8)"
   ]
  },
  {
   "cell_type": "code",
   "execution_count": 166,
   "metadata": {},
   "outputs": [
    {
     "data": {
      "text/latex": [
       "$\\displaystyle \\prod_{i=1}^{n} \\frac{e^{- \\frac{\\left(y_{i} - \\left(beta_{0} + beta_{1} x_{i}\\right)\\right)^{2}}{2 \\sigma^{2}}}}{\\sqrt{2 s_{p} \\sigma^{2}}}$"
      ],
      "text/plain": [
       "Product(exp(-(y_{i} - (beta_{0} + beta_{1}*x_{i}))**2/(2*sigma**2))/(sqrt(2*(s_{p}*sigma**2))), (i, 1, n))"
      ]
     },
     "execution_count": 166,
     "metadata": {},
     "output_type": "execute_result"
    }
   ],
   "source": [
    "y_i, sigma, beta_0, beta_1, x_i, s_p, n = symbols('y_i sigma beta_0 beta_1 x_i s_p n')\n",
    "latex_eq = r\"\\prod_{i=1}^{n} \\frac{1}{\\sqrt{2s_p\\sigma^2}} \\exp\\left( -\\frac{(y_i - (\\beta_0 + \\beta_1 x_i))^2}{2\\sigma^2} \\right)\"\n",
    "latex_expr = parse_latex(latex_eq)\n",
    "latex_expr = latex_expr.simplify()\n",
    "latex_expr"
   ]
  },
  {
   "cell_type": "code",
   "execution_count": 163,
   "metadata": {},
   "outputs": [
    {
     "data": {
      "text/plain": [
       "'(sqrt(2)*exp(-(beta_{0} + beta_{1}*x_{i} - y_{i})**2/(2*sigma**2))/(2*sqrt(s_{p}*sigma**2)))**n'"
      ]
     },
     "execution_count": 163,
     "metadata": {},
     "output_type": "execute_result"
    }
   ],
   "source": [
    "str(latex_expr)"
   ]
  },
  {
   "cell_type": "code",
   "execution_count": 164,
   "metadata": {},
   "outputs": [],
   "source": [
    "fexpr = lambdify([y_i, sigma, beta_0, beta_1, x_i, s_p, n], latex_expr, 'numpy')"
   ]
  },
  {
   "cell_type": "code",
   "execution_count": 165,
   "metadata": {},
   "outputs": [
    {
     "data": {
      "text/plain": [
       "array([0.0041937 , 0.01463746])"
      ]
     },
     "execution_count": 165,
     "metadata": {},
     "output_type": "execute_result"
    }
   ],
   "source": [
    "fexpr(np.array([2, 6]), 2, 2, 1, np.array([3, 6]), np.pi, 2)"
   ]
  },
  {
   "cell_type": "code",
   "execution_count": null,
   "metadata": {},
   "outputs": [],
   "source": []
  }
 ],
 "metadata": {
  "kernelspec": {
   "display_name": "cmpenv",
   "language": "python",
   "name": "python3"
  },
  "language_info": {
   "codemirror_mode": {
    "name": "ipython",
    "version": 3
   },
   "file_extension": ".py",
   "mimetype": "text/x-python",
   "name": "python",
   "nbconvert_exporter": "python",
   "pygments_lexer": "ipython3",
   "version": "3.12.4"
  }
 },
 "nbformat": 4,
 "nbformat_minor": 2
}
